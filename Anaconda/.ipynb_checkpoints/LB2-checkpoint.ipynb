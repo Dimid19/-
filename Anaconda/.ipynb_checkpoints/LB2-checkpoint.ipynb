{
 "cells": [
  {
   "cell_type": "markdown",
   "id": "6e2c1c76-e8cd-4d0a-8438-8239515352c9",
   "metadata": {},
   "source": [
    "Hello, i am Dima it is my Lb1"
   ]
  },
  {
   "cell_type": "code",
   "execution_count": 1,
   "id": "ef36ca72-8e3b-438a-8832-1c661942fd76",
   "metadata": {},
   "outputs": [
    {
     "name": "stdout",
     "output_type": "stream",
     "text": [
      "privet\n"
     ]
    }
   ],
   "source": [
    "print(\"privet\")\n"
   ]
  },
  {
   "cell_type": "code",
   "execution_count": null,
   "id": "fbf9ad57-ae0c-4f51-bfc7-8bc73b12d386",
   "metadata": {},
   "outputs": [],
   "source": [
    "import time "
   ]
  },
  {
   "cell_type": "code",
   "execution_count": null,
   "id": "2d0538f2-59f2-44ee-9faa-8e220a24b5a4",
   "metadata": {},
   "outputs": [],
   "source": []
  }
 ],
 "metadata": {
  "kernelspec": {
   "display_name": "Python 3 (ipykernel)",
   "language": "python",
   "name": "python3"
  },
  "language_info": {
   "codemirror_mode": {
    "name": "ipython",
    "version": 3
   },
   "file_extension": ".py",
   "mimetype": "text/x-python",
   "name": "python",
   "nbconvert_exporter": "python",
   "pygments_lexer": "ipython3",
   "version": "3.8.2"
  }
 },
 "nbformat": 4,
 "nbformat_minor": 5
}
